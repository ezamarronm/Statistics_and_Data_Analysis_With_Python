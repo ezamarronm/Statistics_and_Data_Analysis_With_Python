{
 "cells": [
  {
   "cell_type": "code",
   "execution_count": 39,
   "metadata": {},
   "outputs": [],
   "source": [
    "import pandas as pd\n",
    "import numpy as np\n",
    "\n",
    "import matplotlib.pyplot as plt\n",
    "\n",
    "import statsmodels.api as sm\n",
    "import pyreadstat as pr\n",
    "\n",
    "from sklearn import linear_model, metrics\n",
    "from sklearn.metrics import mean_squared_error, accuracy_score\n",
    "\n",
    "%matplotlib inline"
   ]
  },
  {
   "cell_type": "code",
   "execution_count": 8,
   "metadata": {},
   "outputs": [
    {
     "data": {
      "text/plain": [
       "Index(['salario', 'noasiat', 'gpa', 'postgrad', 'experien'], dtype='object')"
      ]
     },
     "execution_count": 8,
     "metadata": {},
     "output_type": "execute_result"
    }
   ],
   "source": [
    "arc = 'compensacion-ejecutivos.sav'\n",
    "df, meta = pr.read_sav(arc)\n",
    "df.columns"
   ]
  },
  {
   "cell_type": "markdown",
   "metadata": {},
   "source": [
    "# Linear regression"
   ]
  },
  {
   "cell_type": "code",
   "execution_count": 14,
   "metadata": {},
   "outputs": [],
   "source": [
    "Y = df['salario']\n",
    "X = df.drop(['salario', 'noasiat', 'postgrad'], axis = 'columns')"
   ]
  },
  {
   "cell_type": "code",
   "execution_count": 15,
   "metadata": {},
   "outputs": [],
   "source": [
    "reg_lin = sm.OLS(Y, sm.add_constant(X)).fit()"
   ]
  },
  {
   "cell_type": "code",
   "execution_count": 16,
   "metadata": {},
   "outputs": [
    {
     "data": {
      "text/html": [
       "<table class=\"simpletable\">\n",
       "<caption>OLS Regression Results</caption>\n",
       "<tr>\n",
       "  <th>Dep. Variable:</th>         <td>salario</td>     <th>  R-squared:         </th> <td>   0.798</td>\n",
       "</tr>\n",
       "<tr>\n",
       "  <th>Model:</th>                   <td>OLS</td>       <th>  Adj. R-squared:    </th> <td>   0.794</td>\n",
       "</tr>\n",
       "<tr>\n",
       "  <th>Method:</th>             <td>Least Squares</td>  <th>  F-statistic:       </th> <td>   211.0</td>\n",
       "</tr>\n",
       "<tr>\n",
       "  <th>Date:</th>             <td>Tue, 12 May 2020</td> <th>  Prob (F-statistic):</th> <td>7.37e-38</td>\n",
       "</tr>\n",
       "<tr>\n",
       "  <th>Time:</th>                 <td>17:33:10</td>     <th>  Log-Likelihood:    </th> <td> -1135.4</td>\n",
       "</tr>\n",
       "<tr>\n",
       "  <th>No. Observations:</th>      <td>   110</td>      <th>  AIC:               </th> <td>   2277.</td>\n",
       "</tr>\n",
       "<tr>\n",
       "  <th>Df Residuals:</th>          <td>   107</td>      <th>  BIC:               </th> <td>   2285.</td>\n",
       "</tr>\n",
       "<tr>\n",
       "  <th>Df Model:</th>              <td>     2</td>      <th>                     </th>     <td> </td>   \n",
       "</tr>\n",
       "<tr>\n",
       "  <th>Covariance Type:</th>      <td>nonrobust</td>    <th>                     </th>     <td> </td>   \n",
       "</tr>\n",
       "</table>\n",
       "<table class=\"simpletable\">\n",
       "<tr>\n",
       "      <td></td>        <th>coef</th>     <th>std err</th>      <th>t</th>      <th>P>|t|</th>  <th>[0.025</th>    <th>0.975]</th>  \n",
       "</tr>\n",
       "<tr>\n",
       "  <th>const</th>    <td> 4968.0099</td> <td> 4325.267</td> <td>    1.149</td> <td> 0.253</td> <td>-3606.328</td> <td> 1.35e+04</td>\n",
       "</tr>\n",
       "<tr>\n",
       "  <th>gpa</th>      <td> 2.024e+04</td> <td> 1364.423</td> <td>   14.831</td> <td> 0.000</td> <td> 1.75e+04</td> <td> 2.29e+04</td>\n",
       "</tr>\n",
       "<tr>\n",
       "  <th>experien</th> <td> 1973.1918</td> <td>  148.539</td> <td>   13.284</td> <td> 0.000</td> <td> 1678.730</td> <td> 2267.653</td>\n",
       "</tr>\n",
       "</table>\n",
       "<table class=\"simpletable\">\n",
       "<tr>\n",
       "  <th>Omnibus:</th>       <td> 0.779</td> <th>  Durbin-Watson:     </th> <td>   1.909</td>\n",
       "</tr>\n",
       "<tr>\n",
       "  <th>Prob(Omnibus):</th> <td> 0.678</td> <th>  Jarque-Bera (JB):  </th> <td>   0.857</td>\n",
       "</tr>\n",
       "<tr>\n",
       "  <th>Skew:</th>          <td>-0.191</td> <th>  Prob(JB):          </th> <td>   0.651</td>\n",
       "</tr>\n",
       "<tr>\n",
       "  <th>Kurtosis:</th>      <td> 2.795</td> <th>  Cond. No.          </th> <td>    72.2</td>\n",
       "</tr>\n",
       "</table><br/><br/>Warnings:<br/>[1] Standard Errors assume that the covariance matrix of the errors is correctly specified."
      ],
      "text/plain": [
       "<class 'statsmodels.iolib.summary.Summary'>\n",
       "\"\"\"\n",
       "                            OLS Regression Results                            \n",
       "==============================================================================\n",
       "Dep. Variable:                salario   R-squared:                       0.798\n",
       "Model:                            OLS   Adj. R-squared:                  0.794\n",
       "Method:                 Least Squares   F-statistic:                     211.0\n",
       "Date:                Tue, 12 May 2020   Prob (F-statistic):           7.37e-38\n",
       "Time:                        17:33:10   Log-Likelihood:                -1135.4\n",
       "No. Observations:                 110   AIC:                             2277.\n",
       "Df Residuals:                     107   BIC:                             2285.\n",
       "Df Model:                           2                                         \n",
       "Covariance Type:            nonrobust                                         \n",
       "==============================================================================\n",
       "                 coef    std err          t      P>|t|      [0.025      0.975]\n",
       "------------------------------------------------------------------------------\n",
       "const       4968.0099   4325.267      1.149      0.253   -3606.328    1.35e+04\n",
       "gpa         2.024e+04   1364.423     14.831      0.000    1.75e+04    2.29e+04\n",
       "experien    1973.1918    148.539     13.284      0.000    1678.730    2267.653\n",
       "==============================================================================\n",
       "Omnibus:                        0.779   Durbin-Watson:                   1.909\n",
       "Prob(Omnibus):                  0.678   Jarque-Bera (JB):                0.857\n",
       "Skew:                          -0.191   Prob(JB):                        0.651\n",
       "Kurtosis:                       2.795   Cond. No.                         72.2\n",
       "==============================================================================\n",
       "\n",
       "Warnings:\n",
       "[1] Standard Errors assume that the covariance matrix of the errors is correctly specified.\n",
       "\"\"\""
      ]
     },
     "execution_count": 16,
     "metadata": {},
     "output_type": "execute_result"
    }
   ],
   "source": [
    "reg_lin.summary()"
   ]
  },
  {
   "cell_type": "code",
   "execution_count": 19,
   "metadata": {},
   "outputs": [
    {
     "data": {
      "text/plain": [
       "<matplotlib.lines.Line2D at 0x7f77d9ac5990>"
      ]
     },
     "execution_count": 19,
     "metadata": {},
     "output_type": "execute_result"
    },
    {
     "data": {
      "image/png": "[encoded data removed]",
      "text/plain": [
       "<Figure size 432x288 with 1 Axes>"
      ]
     },
     "metadata": {
      "needs_background": "light"
     },
     "output_type": "display_data"
    }
   ],
   "source": [
    "fig, ax = plt.subplots()\n",
    "pred_y = reg_lin.predict(sm.add_constant(X))\n",
    "ax.scatter(y, y - pred_y)\n",
    "plt.axhline(y = 0, color = 'black', alpha = .8, linestyle = '--')"
   ]
  },
  {
   "cell_type": "markdown",
   "metadata": {},
   "source": [
    "# Logistic_regression"
   ]
  },
  {
   "cell_type": "code",
   "execution_count": 20,
   "metadata": {},
   "outputs": [
    {
     "data": {
      "text/plain": [
       "Index(['salario', 'noasiat', 'gpa', 'postgrad', 'experien'], dtype='object')"
      ]
     },
     "execution_count": 20,
     "metadata": {},
     "output_type": "execute_result"
    }
   ],
   "source": [
    "df.columns"
   ]
  },
  {
   "cell_type": "code",
   "execution_count": 21,
   "metadata": {},
   "outputs": [
    {
     "data": {
      "text/plain": [
       "count       110.000000\n",
       "mean      85256.518182\n",
       "std       16419.359283\n",
       "min       47279.000000\n",
       "25%       74379.000000\n",
       "50%       86384.000000\n",
       "75%       96827.250000\n",
       "max      118683.000000\n",
       "Name: salario, dtype: float64"
      ]
     },
     "execution_count": 21,
     "metadata": {},
     "output_type": "execute_result"
    }
   ],
   "source": [
    "df.salario.describe()"
   ]
  },
  {
   "cell_type": "code",
   "execution_count": 46,
   "metadata": {},
   "outputs": [],
   "source": [
    "y = np.where(df['salario'] > 96000, 1, 0)\n",
    "X = df.drop('salario', axis = 'columns')\n"
   ]
  },
  {
   "cell_type": "code",
   "execution_count": 47,
   "metadata": {},
   "outputs": [
    {
     "data": {
      "text/plain": [
       "Text(0, 0.5, 'y')"
      ]
     },
     "execution_count": 47,
     "metadata": {},
     "output_type": "execute_result"
    },
    {
     "data": {
      "image/png": "[encoded data removed]",
      "text/plain": [
       "<Figure size 432x288 with 1 Axes>"
      ]
     },
     "metadata": {
      "needs_background": "light"
     },
     "output_type": "display_data"
    }
   ],
   "source": [
    "fig, ax = plt.subplots()\n",
    "ax.scatter(df.salario, y)\n",
    "ax.set_xlabel('Salary')\n",
    "ax.set_ylabel('y')"
   ]
  },
  {
   "cell_type": "code",
   "execution_count": 37,
   "metadata": {},
   "outputs": [],
   "source": [
    "log_reg = linear_model.LogisticRegression().fit(X,y)\n",
    "stimated_y =log_reg.predict(X)"
   ]
  },
  {
   "cell_type": "code",
   "execution_count": 48,
   "metadata": {},
   "outputs": [
    {
     "data": {
      "text/plain": [
       "0.9090909090909091"
      ]
     },
     "execution_count": 48,
     "metadata": {},
     "output_type": "execute_result"
    }
   ],
   "source": [
    "accuracy_score(y, log_reg.predict(X))"
   ]
  },
  {
   "cell_type": "code",
   "execution_count": null,
   "metadata": {},
   "outputs": [],
   "source": []
  }
 ],
 "metadata": {
  "kernelspec": {
   "display_name": "Python 3.7.6 64-bit ('base': conda)",
   "language": "python",
   "name": "python37664bitbasecondaefbf0c1452014b86a9a19422c1d2ffa8"
  },
  "language_info": {
   "codemirror_mode": {
    "name": "ipython",
    "version": 3
   },
   "file_extension": ".py",
   "mimetype": "text/x-python",
   "name": "python",
   "nbconvert_exporter": "python",
   "pygments_lexer": "ipython3",
   "version": "3.7.6"
  }
 },
 "nbformat": 4,
 "nbformat_minor": 4
}
