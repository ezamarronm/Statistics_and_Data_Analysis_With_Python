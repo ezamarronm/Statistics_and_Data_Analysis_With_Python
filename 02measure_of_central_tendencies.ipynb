{
 "cells": [
  {
   "cell_type": "code",
   "execution_count": 2,
   "metadata": {},
   "outputs": [],
   "source": [
    "import numpy as np\n",
    "import pandas as pd\n",
    "import scipy.stats"
   ]
  },
  {
   "cell_type": "code",
   "execution_count": 54,
   "metadata": {},
   "outputs": [],
   "source": [
    "df = pd.read_csv('./shared_bicycles.csv')\n",
    "df.columns\n",
    "y = df['bicis-compartidas'].values\n",
    "y = np.where(y == 0 , 1, y)\n"
   ]
  },
  {
   "cell_type": "code",
   "execution_count": 30,
   "metadata": {},
   "outputs": [
    {
     "name": "stdout",
     "output_type": "stream",
     "text": [
      "1\n",
      "7860\n",
      "1143.1016997817849\n",
      "844.0\n"
     ]
    }
   ],
   "source": [
    "print(np.min(y))\n",
    "print(np.max(y))\n",
    "print(np.mean(y))\n",
    "print(np.median(y))\n"
   ]
  },
  {
   "cell_type": "code",
   "execution_count": 26,
   "metadata": {},
   "outputs": [
    {
     "data": {
      "text/plain": [
       "241.65180305136826"
      ]
     },
     "execution_count": 26,
     "metadata": {},
     "output_type": "execute_result"
    }
   ],
   "source": [
    "scipy.stats.mstats.hmean(y)"
   ]
  },
  {
   "cell_type": "code",
   "execution_count": 42,
   "metadata": {},
   "outputs": [
    {
     "name": "stdout",
     "output_type": "stream",
     "text": [
      "0\n",
      "7860\n",
      "844.0\n",
      "mode a:\n",
      "0    46\n",
      "dtype: int64\n",
      "mode b\n",
      "46\n",
      "1085.1080679362167\n"
     ]
    }
   ],
   "source": [
    "print(df['bicis-compartidas'].min())\n",
    "print(df['bicis-compartidas'].max())\n",
    "print(df['bicis-compartidas'].median())\n",
    "print('mode a:')\n",
    "print(df['bicis-compartidas'].mode())\n",
    "\n",
    "##mode \n",
    "print('mode b')\n",
    "print(df['bicis-compartidas'].value_counts().keys()[0])\n",
    "\n",
    "print(df['bicis-compartidas'].std())\n",
    "\n",
    "\n"
   ]
  },
  {
   "cell_type": "code",
   "execution_count": 51,
   "metadata": {},
   "outputs": [],
   "source": [
    "y_altered = y.copy()\n",
    "y_altered[y_altered == max(y_altered)] = 10000000"
   ]
  },
  {
   "cell_type": "code",
   "execution_count": 53,
   "metadata": {},
   "outputs": [
    {
     "name": "stdout",
     "output_type": "stream",
     "text": [
      "1143.1016997817849\n",
      "1716.9009417709888\n"
     ]
    }
   ],
   "source": [
    "print(np.mean(y))\n",
    "print(np.mean(y_altered))\n"
   ]
  },
  {
   "cell_type": "code",
   "execution_count": null,
   "metadata": {},
   "outputs": [],
   "source": []
  }
 ],
 "metadata": {
  "kernelspec": {
   "display_name": "Python 3",
   "language": "python",
   "name": "python3"
  },
  "language_info": {
   "codemirror_mode": {
    "name": "ipython",
    "version": 3
   },
   "file_extension": ".py",
   "mimetype": "text/x-python",
   "name": "python",
   "nbconvert_exporter": "python",
   "pygments_lexer": "ipython3",
   "version": "3.7.6"
  }
 },
 "nbformat": 4,
 "nbformat_minor": 4
}
