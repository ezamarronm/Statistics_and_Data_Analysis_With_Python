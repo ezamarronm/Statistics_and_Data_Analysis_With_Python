{
 "cells": [
  {
   "cell_type": "code",
   "execution_count": 10,
   "metadata": {},
   "outputs": [],
   "source": [
    "import numpy as np\n",
    "import pandas as pd\n",
    "import matplotlib.pyplot as plt\n",
    "from sklearn.datasets import load_iris\n",
    "from scipy.stats import norm\n",
    "import seaborn as sns\n",
    "\n",
    "%matplotlib inline"
   ]
  },
  {
   "cell_type": "code",
   "execution_count": 9,
   "metadata": {},
   "outputs": [
    {
     "name": "stdout",
     "output_type": "stream",
     "text": [
      "0.24197072451914337\n",
      "0.00013383022576488537\n"
     ]
    }
   ],
   "source": [
    "from scipy.stats import norm\n",
    "\n",
    "x1 = 3\n",
    "\n",
    "mu1 = 4 \n",
    "sigma = 1\n",
    "mu2 = 7\n",
    "\n",
    "sample_p1 = norm.pdf(x1,mu1,sigma)\n",
    "sample_p2 = norm.pdf(x1,mu2,sigma)\n",
    "\n",
    "print(sample_p1)\n",
    "print(sample_p2)"
   ]
  },
  {
   "cell_type": "code",
   "execution_count": 12,
   "metadata": {},
   "outputs": [
    {
     "name": "stdout",
     "output_type": "stream",
     "text": [
      "1.4701857752651781e-09\n",
      "5.931152735254122e-07\n"
     ]
    }
   ],
   "source": [
    "\n",
    "x1 = 3\n",
    "x2 = 10\n",
    "\n",
    "mu1 = 4 \n",
    "mu2 = 7\n",
    "\n",
    "sigma = 1\n",
    "\n",
    "sample_p1 = norm.pdf(x1,mu1,sigma) *  norm.pdf(x2,mu1,sigma)\n",
    "sample_p2 = norm.pdf(x1,mu2,sigma) * norm.pdf(x2,mu2,sigma)\n",
    "\n",
    "print(sample_p1)\n",
    "print(sample_p2)"
   ]
  },
  {
   "cell_type": "code",
   "execution_count": 87,
   "metadata": {},
   "outputs": [
    {
     "name": "stdout",
     "output_type": "stream",
     "text": [
      "Sample 10: [5.58668588 4.24654178 3.55800098 3.54858843 5.22336419 4.15044495\n",
      " 4.31355563 5.93629544 5.10259664 5.93328522]\n"
     ]
    },
    {
     "data": {
      "text/plain": [
       "[Text(0, 0.5, 'Frequency'), Text(0.5, 0, 'Mu1 and Mu2 Normal Distribution')]"
      ]
     },
     "execution_count": 87,
     "metadata": {},
     "output_type": "execute_result"
    },
    {
     "data": {
      "image/png": "[encoded data removed]",
      "text/plain": [
       "<Figure size 432x288 with 1 Axes>"
      ]
     },
     "metadata": {
      "needs_background": "light"
     },
     "output_type": "display_data"
    }
   ],
   "source": [
    "size = 10\n",
    "sample_10 = norm.rvs(5, sigma, size = size) #Random variable sample (mean, std_dev, size)\n",
    "y = [3000 for i in range(len(sample_10))]\n",
    "print(f'Sample 10: {sample_10}')\n",
    "\n",
    "size = 100000\n",
    "data1 = norm.rvs(mu1, sigma, size = size)\n",
    "data2 = norm.rvs(mu2, sigma, size = size)\n",
    "\n",
    "ax  = sns.distplot(data1, bins = 50, color = 'blue', kde = False)\n",
    "ax.set(xlabel = 'Mu1 Normal Distribution', ylabel = 'Frequency')\n",
    "\n",
    "ax  = sns.distplot(data2, bins = 50, color = 'red', kde = False)\n",
    "ax.set(xlabel = 'Mu1 and Mu2 Normal Distribution', ylabel = 'Frequency')\n",
    "\n",
    "ax.scatter(sample_10, y, color = 'k')\n",
    "ax.set(xlabel = 'Mu1 and Mu2 Normal Distribution', ylabel = 'Frequency')"
   ]
  },
  {
   "cell_type": "code",
   "execution_count": 71,
   "metadata": {},
   "outputs": [],
   "source": []
  },
  {
   "cell_type": "code",
   "execution_count": null,
   "metadata": {},
   "outputs": [],
   "source": []
  },
  {
   "cell_type": "code",
   "execution_count": null,
   "metadata": {},
   "outputs": [],
   "source": []
  },
  {
   "cell_type": "code",
   "execution_count": 45,
   "metadata": {},
   "outputs": [],
   "source": []
  },
  {
   "cell_type": "code",
   "execution_count": null,
   "metadata": {},
   "outputs": [],
   "source": []
  }
 ],
 "metadata": {
  "kernelspec": {
   "display_name": "Python 3.7.6 64-bit ('base': conda)",
   "language": "python",
   "name": "python37664bitbasecondaefbf0c1452014b86a9a19422c1d2ffa8"
  },
  "language_info": {
   "codemirror_mode": {
    "name": "ipython",
    "version": 3
   },
   "file_extension": ".py",
   "mimetype": "text/x-python",
   "name": "python",
   "nbconvert_exporter": "python",
   "pygments_lexer": "ipython3",
   "version": "3.7.6"
  }
 },
 "nbformat": 4,
 "nbformat_minor": 4
}
